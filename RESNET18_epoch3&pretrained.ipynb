{
 "cells": [
  {
   "cell_type": "code",
   "execution_count": 61,
   "id": "efea4b61-f411-4c6d-a993-d70332c85af7",
   "metadata": {
    "tags": []
   },
   "outputs": [],
   "source": [
    "import torch\n",
    "import torch.nn as nn\n",
    "from torch.nn import Linear, CrossEntropyLoss\n",
    "from torch.optim import Adam\n",
    "\n",
    "import torchvision\n",
    "import torchvision.transforms as transforms\n",
    "from torchvision.models import resnet18, ResNet18_Weights"
   ]
  },
  {
   "cell_type": "code",
   "execution_count": 3,
   "id": "e5a16e17-48dc-42f7-9634-0e7218313307",
   "metadata": {},
   "outputs": [],
   "source": [
    "net = resnet18(weights=ResNet18_Weights.IMAGENET1K_V1)\n",
    "\n",
    "\n",
    "net.fc = Linear(in_features=512, out_features=10)"
   ]
  },
  {
   "cell_type": "code",
   "execution_count": 4,
   "id": "e22f461b-43f5-4a7b-9c6d-caf196a07268",
   "metadata": {
    "tags": []
   },
   "outputs": [
    {
     "name": "stdout",
     "output_type": "stream",
     "text": [
      "Files already downloaded and verified\n",
      "Files already downloaded and verified\n",
      "Dataset CIFAR10\n",
      "    Number of datapoints: 50000\n",
      "    Root location: ./data\n",
      "    Split: Train\n",
      "    StandardTransform\n",
      "Transform: Compose(\n",
      "               Resize(size=(224, 224), interpolation=bilinear, max_size=None, antialias=None)\n",
      "               RandomHorizontalFlip(p=0.5)\n",
      "               RandomRotation(degrees=[-10.0, 10.0], interpolation=nearest, expand=False, fill=0)\n",
      "               ToTensor()\n",
      "               Normalize(mean=[0.485, 0.456, 0.406], std=[0.229, 0.224, 0.225])\n",
      "           )\n"
     ]
    }
   ],
   "source": [
    "# Data Transformer\n",
    "tfm = transforms.Compose([\n",
    "    transforms.Resize((224, 224)),\n",
    "    transforms.RandomHorizontalFlip(),\n",
    "    transforms.RandomRotation(degrees=10),\n",
    "    transforms.ToTensor(),\n",
    "    transforms.Normalize([0.485, 0.456, 0.406], [0.229, 0.224, 0.225])\n",
    "])\n",
    "\n",
    "batch_size = 1\n",
    "\n",
    "trainset = torchvision.datasets.CIFAR10(root='./data', train=True,\n",
    "                                        download=True, transform=tfm)\n",
    "trainloader = torch.utils.data.DataLoader(trainset, batch_size=batch_size,\n",
    "                                          shuffle=True, num_workers=2)\n",
    "\n",
    "testset = torchvision.datasets.CIFAR10(root='./data', train=False,\n",
    "                                       download=True, transform=tfm)\n",
    "testloader = torch.utils.data.DataLoader(testset, batch_size=batch_size,\n",
    "                                         shuffle=False, num_workers=2)\n",
    "print(trainloader.dataset)"
   ]
  },
  {
   "cell_type": "code",
   "execution_count": 5,
   "id": "a5a3f839-4a67-4420-be25-7c0c5e6c4fe7",
   "metadata": {
    "tags": []
   },
   "outputs": [],
   "source": [
    "import torch.optim as optim\n",
    "\n",
    "criterion = nn.CrossEntropyLoss()\n",
    "optimizer=Adam(net.parameters(), lr=0.0003, weight_decay=0.0001)"
   ]
  },
  {
   "cell_type": "code",
   "execution_count": 41,
   "id": "65df6c8b-4c8e-4147-b947-bdef89f661d6",
   "metadata": {
    "tags": []
   },
   "outputs": [],
   "source": [
    "model_scripted = torch.jit.script(net) # Export to TorchScript\n",
    "model_scripted.save('model_scripted.pt') # Save"
   ]
  },
  {
   "cell_type": "code",
   "execution_count": 8,
   "id": "a5f00efe-f508-4547-bf12-6c45d736a6a0",
   "metadata": {
    "tags": []
   },
   "outputs": [],
   "source": [
    "def trainer(model,trainloader,min):\n",
    "  for epoch in range(1):\n",
    "\n",
    "    running_loss = 0.0\n",
    "    for i, data in enumerate(trainloader, 0):\n",
    "      if i>=min and i<=min+4000:\n",
    "          inputs, labels = data\n",
    "          optimizer.zero_grad()\n",
    "          outputs = model(inputs)\n",
    "          loss = criterion(outputs, labels)\n",
    "          loss.backward()\n",
    "          optimizer.step()\n",
    "\n",
    "\n",
    "          running_loss += loss.item()\n",
    "          if i % 500 == 0:    \n",
    "              print(f'[{epoch + 1}, {i + 1:5d}] loss: {running_loss / 500:.3f}')\n",
    "              running_loss = 0.0\n",
    "      elif i>min+4000:\n",
    "        break\n",
    "      else:\n",
    "        pass\n",
    "\n",
    "  print('Finished Training')"
   ]
  },
  {
   "cell_type": "code",
   "execution_count": 43,
   "id": "73412f58-0efa-4d65-b26c-45bf01a772e0",
   "metadata": {
    "tags": []
   },
   "outputs": [
    {
     "name": "stdout",
     "output_type": "stream",
     "text": [
      "[1,     1] loss: 0.006\n",
      "[1,   501] loss: 2.408\n",
      "[1,  1001] loss: 2.353\n",
      "[1,  1501] loss: 2.349\n",
      "[1,  2001] loss: 2.263\n",
      "[1,  2501] loss: 2.235\n",
      "[1,  3001] loss: 2.188\n",
      "[1,  3501] loss: 2.131\n",
      "[1,  4001] loss: 2.120\n",
      "Finished Training\n"
     ]
    }
   ],
   "source": [
    "trainer(net,trainloader,0)"
   ]
  },
  {
   "cell_type": "code",
   "execution_count": 44,
   "id": "4370754e-b949-4d2c-bf25-e00833f53268",
   "metadata": {
    "tags": []
   },
   "outputs": [
    {
     "name": "stdout",
     "output_type": "stream",
     "text": [
      "[1,  4001] loss: 0.004\n",
      "[1,  4501] loss: 2.131\n",
      "[1,  5001] loss: 2.081\n",
      "[1,  5501] loss: 2.048\n",
      "[1,  6001] loss: 2.069\n",
      "[1,  6501] loss: 2.053\n",
      "[1,  7001] loss: 1.947\n",
      "[1,  7501] loss: 2.045\n",
      "[1,  8001] loss: 1.955\n",
      "Finished Training\n"
     ]
    }
   ],
   "source": [
    "trainer(net,trainloader,4000)"
   ]
  },
  {
   "cell_type": "code",
   "execution_count": 45,
   "id": "0ebf3d97-b7b4-4280-b3d3-ce9ec29a47bf",
   "metadata": {
    "tags": []
   },
   "outputs": [
    {
     "name": "stdout",
     "output_type": "stream",
     "text": [
      "[1,  8001] loss: 0.004\n",
      "[1,  8501] loss: 2.004\n",
      "[1,  9001] loss: 1.902\n",
      "[1,  9501] loss: 1.964\n",
      "[1, 10001] loss: 1.936\n",
      "[1, 10501] loss: 1.904\n",
      "[1, 11001] loss: 1.862\n",
      "[1, 11501] loss: 1.790\n",
      "[1, 12001] loss: 1.752\n",
      "Finished Training\n"
     ]
    }
   ],
   "source": [
    "trainer(net,trainloader,8000)"
   ]
  },
  {
   "cell_type": "code",
   "execution_count": 46,
   "id": "e1af9696-daf0-4014-8453-d465652a3c61",
   "metadata": {
    "tags": []
   },
   "outputs": [
    {
     "name": "stdout",
     "output_type": "stream",
     "text": [
      "[1, 12001] loss: 0.003\n",
      "[1, 12501] loss: 1.781\n",
      "[1, 13001] loss: 1.723\n",
      "[1, 13501] loss: 1.812\n",
      "[1, 14001] loss: 1.714\n",
      "[1, 14501] loss: 1.766\n",
      "[1, 15001] loss: 1.734\n",
      "[1, 15501] loss: 1.706\n",
      "[1, 16001] loss: 1.702\n",
      "Finished Training\n"
     ]
    }
   ],
   "source": [
    "trainer(net,trainloader,12000)"
   ]
  },
  {
   "cell_type": "code",
   "execution_count": 47,
   "id": "0974f4bf-7a31-4a19-917c-cbdd655c5670",
   "metadata": {
    "tags": []
   },
   "outputs": [
    {
     "name": "stdout",
     "output_type": "stream",
     "text": [
      "[1, 16001] loss: 0.006\n",
      "[1, 16501] loss: 1.691\n",
      "[1, 17001] loss: 1.593\n",
      "[1, 17501] loss: 1.655\n",
      "[1, 18001] loss: 1.559\n",
      "[1, 18501] loss: 1.645\n",
      "[1, 19001] loss: 1.631\n",
      "[1, 19501] loss: 1.593\n",
      "[1, 20001] loss: 1.579\n",
      "Finished Training\n"
     ]
    }
   ],
   "source": [
    "trainer(net,trainloader,16000)"
   ]
  },
  {
   "cell_type": "code",
   "execution_count": 48,
   "id": "b1e22d4b-97ed-4eea-8e11-4db70818a0fd",
   "metadata": {
    "tags": []
   },
   "outputs": [
    {
     "name": "stdout",
     "output_type": "stream",
     "text": [
      "[1, 20001] loss: 0.012\n",
      "[1, 20501] loss: 1.563\n",
      "[1, 21001] loss: 1.479\n",
      "[1, 21501] loss: 1.489\n",
      "[1, 22001] loss: 1.535\n",
      "[1, 22501] loss: 1.453\n",
      "[1, 23001] loss: 1.524\n",
      "[1, 23501] loss: 1.497\n",
      "[1, 24001] loss: 1.490\n",
      "Finished Training\n"
     ]
    }
   ],
   "source": [
    "trainer(net,trainloader,20000)"
   ]
  },
  {
   "cell_type": "code",
   "execution_count": 49,
   "id": "acf783f1-ab19-4073-861e-10d4756cc48a",
   "metadata": {
    "tags": []
   },
   "outputs": [
    {
     "name": "stdout",
     "output_type": "stream",
     "text": [
      "[1, 24001] loss: 0.003\n",
      "[1, 24501] loss: 1.404\n",
      "[1, 25001] loss: 1.409\n",
      "[1, 25501] loss: 1.450\n",
      "[1, 26001] loss: 1.369\n",
      "[1, 26501] loss: 1.379\n",
      "[1, 27001] loss: 1.322\n",
      "[1, 27501] loss: 1.403\n",
      "[1, 28001] loss: 1.421\n",
      "Finished Training\n"
     ]
    }
   ],
   "source": [
    "trainer(net,trainloader,24000)"
   ]
  },
  {
   "cell_type": "code",
   "execution_count": 50,
   "id": "569629dd-95f6-4c0a-b351-e628692f6e63",
   "metadata": {
    "tags": []
   },
   "outputs": [],
   "source": [
    "model_scripted = torch.jit.script(net) # Export to TorchScript\n",
    "model_scripted.save('model_scripted.pt') # Save"
   ]
  },
  {
   "cell_type": "code",
   "execution_count": 51,
   "id": "b5d36821-2647-4c82-9d85-c245dc7609bc",
   "metadata": {
    "tags": []
   },
   "outputs": [
    {
     "name": "stdout",
     "output_type": "stream",
     "text": [
      "[1, 28001] loss: 0.007\n",
      "[1, 28501] loss: 1.395\n",
      "[1, 29001] loss: 1.322\n",
      "[1, 29501] loss: 1.356\n",
      "[1, 30001] loss: 1.351\n",
      "[1, 30501] loss: 1.307\n",
      "[1, 31001] loss: 1.233\n",
      "[1, 31501] loss: 1.268\n",
      "[1, 32001] loss: 1.249\n",
      "Finished Training\n"
     ]
    }
   ],
   "source": [
    "trainer(net,trainloader,28000)"
   ]
  },
  {
   "cell_type": "code",
   "execution_count": 52,
   "id": "e743af2b-98aa-4019-8143-f3bada662d26",
   "metadata": {
    "tags": []
   },
   "outputs": [
    {
     "name": "stdout",
     "output_type": "stream",
     "text": [
      "[1, 32001] loss: 0.003\n",
      "[1, 32501] loss: 1.291\n",
      "[1, 33001] loss: 1.248\n",
      "[1, 33501] loss: 1.244\n",
      "[1, 34001] loss: 1.204\n",
      "[1, 34501] loss: 1.325\n",
      "[1, 35001] loss: 1.207\n",
      "[1, 35501] loss: 1.181\n",
      "[1, 36001] loss: 1.227\n",
      "Finished Training\n"
     ]
    }
   ],
   "source": [
    "trainer(net,trainloader,32000)"
   ]
  },
  {
   "cell_type": "code",
   "execution_count": 53,
   "id": "ceaa32da-0d55-4b69-8be2-1fbfd914b310",
   "metadata": {
    "tags": []
   },
   "outputs": [
    {
     "name": "stdout",
     "output_type": "stream",
     "text": [
      "[1, 36001] loss: 0.002\n",
      "[1, 36501] loss: 1.268\n",
      "[1, 37001] loss: 1.230\n",
      "[1, 37501] loss: 1.246\n",
      "[1, 38001] loss: 1.202\n",
      "[1, 38501] loss: 1.160\n",
      "[1, 39001] loss: 1.162\n",
      "[1, 39501] loss: 1.239\n",
      "[1, 40001] loss: 1.147\n",
      "Finished Training\n"
     ]
    }
   ],
   "source": [
    "trainer(net,trainloader,36000)"
   ]
  },
  {
   "cell_type": "code",
   "execution_count": 54,
   "id": "71c9f2c3-0cf9-41b0-96ab-519d5dfc7f9e",
   "metadata": {
    "tags": []
   },
   "outputs": [
    {
     "name": "stdout",
     "output_type": "stream",
     "text": [
      "[1, 40001] loss: 0.007\n",
      "[1, 40501] loss: 1.146\n",
      "[1, 41001] loss: 1.159\n",
      "[1, 41501] loss: 1.118\n",
      "[1, 42001] loss: 1.101\n",
      "[1, 42501] loss: 1.212\n",
      "[1, 43001] loss: 1.122\n",
      "[1, 43501] loss: 1.057\n",
      "[1, 44001] loss: 1.126\n",
      "Finished Training\n"
     ]
    }
   ],
   "source": [
    "trainer(net,trainloader,40000)"
   ]
  },
  {
   "cell_type": "code",
   "execution_count": 55,
   "id": "27161bb3-011b-4bd6-b63f-69c147f5c54d",
   "metadata": {
    "tags": []
   },
   "outputs": [
    {
     "name": "stdout",
     "output_type": "stream",
     "text": [
      "[1, 44001] loss: 0.002\n",
      "[1, 44501] loss: 1.141\n",
      "[1, 45001] loss: 1.168\n",
      "[1, 45501] loss: 1.083\n",
      "[1, 46001] loss: 1.131\n",
      "[1, 46501] loss: 1.140\n",
      "[1, 47001] loss: 1.018\n",
      "[1, 47501] loss: 1.071\n",
      "[1, 48001] loss: 1.177\n",
      "Finished Training\n"
     ]
    }
   ],
   "source": [
    "trainer(net,trainloader,44000)"
   ]
  },
  {
   "cell_type": "code",
   "execution_count": 56,
   "id": "64be7491-8235-445d-9ab1-4abd9ffde858",
   "metadata": {
    "tags": []
   },
   "outputs": [
    {
     "name": "stdout",
     "output_type": "stream",
     "text": [
      "[1, 48001] loss: 0.000\n",
      "[1, 48501] loss: 1.028\n",
      "[1, 49001] loss: 1.096\n",
      "[1, 49501] loss: 1.021\n",
      "Finished Training\n"
     ]
    }
   ],
   "source": [
    "trainer(net,trainloader,48000)"
   ]
  },
  {
   "cell_type": "code",
   "execution_count": 57,
   "id": "b2474e41-a90a-43f7-95c8-3a48f6397bb8",
   "metadata": {
    "tags": []
   },
   "outputs": [],
   "source": [
    "model_scripted = torch.jit.script(net) # Export to TorchScript\n",
    "model_scripted.save('model_scripted.pt') # Save"
   ]
  },
  {
   "cell_type": "code",
   "execution_count": 58,
   "id": "d95fc666-04b5-4daf-9777-002a95abe140",
   "metadata": {
    "tags": []
   },
   "outputs": [
    {
     "name": "stdout",
     "output_type": "stream",
     "text": [
      "[1,     1] loss: 0.000\n",
      "[1,   501] loss: 1.049\n",
      "[1,  1001] loss: 0.983\n",
      "[1,  1501] loss: 1.089\n",
      "[1,  2001] loss: 1.020\n",
      "[1,  2501] loss: 1.080\n",
      "[1,  3001] loss: 0.915\n",
      "[1,  3501] loss: 1.126\n",
      "[1,  4001] loss: 0.996\n",
      "Finished Training\n",
      "[1,  4001] loss: 0.000\n",
      "[1,  4501] loss: 1.012\n",
      "[1,  5001] loss: 1.068\n",
      "[1,  5501] loss: 1.076\n",
      "[1,  6001] loss: 0.953\n",
      "[1,  6501] loss: 0.992\n",
      "[1,  7001] loss: 0.985\n",
      "[1,  7501] loss: 1.090\n",
      "[1,  8001] loss: 0.950\n",
      "Finished Training\n"
     ]
    }
   ],
   "source": [
    "trainer(net,trainloader,0)\n",
    "trainer(net,trainloader,4000)"
   ]
  },
  {
   "cell_type": "code",
   "execution_count": 59,
   "id": "573d90b1-4073-4c6b-8e2e-9177bc914eb7",
   "metadata": {
    "tags": []
   },
   "outputs": [
    {
     "name": "stdout",
     "output_type": "stream",
     "text": [
      "[1,  8001] loss: 0.001\n",
      "[1,  8501] loss: 0.939\n",
      "[1,  9001] loss: 0.912\n",
      "[1,  9501] loss: 0.965\n",
      "[1, 10001] loss: 1.010\n",
      "[1, 10501] loss: 0.931\n",
      "[1, 11001] loss: 0.847\n",
      "[1, 11501] loss: 0.968\n",
      "[1, 12001] loss: 0.934\n",
      "Finished Training\n",
      "[1, 12001] loss: 0.002\n",
      "[1, 12501] loss: 0.946\n",
      "[1, 13001] loss: 0.984\n",
      "[1, 13501] loss: 0.955\n",
      "[1, 14001] loss: 0.942\n",
      "[1, 14501] loss: 0.913\n",
      "[1, 15001] loss: 0.928\n",
      "[1, 15501] loss: 0.918\n",
      "[1, 16001] loss: 0.952\n",
      "Finished Training\n"
     ]
    }
   ],
   "source": [
    "trainer(net,trainloader,8000)\n",
    "trainer(net,trainloader,12000)"
   ]
  },
  {
   "cell_type": "code",
   "execution_count": 60,
   "id": "dff3211a-3a1a-461f-850c-0c19b1df3793",
   "metadata": {
    "tags": []
   },
   "outputs": [
    {
     "name": "stdout",
     "output_type": "stream",
     "text": [
      "[1, 16001] loss: 0.000\n",
      "[1, 16501] loss: 0.975\n",
      "[1, 17001] loss: 0.963\n",
      "[1, 17501] loss: 0.891\n",
      "[1, 18001] loss: 1.011\n",
      "[1, 18501] loss: 0.867\n",
      "[1, 19001] loss: 0.927\n",
      "[1, 19501] loss: 0.892\n",
      "[1, 20001] loss: 0.971\n",
      "Finished Training\n",
      "[1, 20001] loss: 0.004\n",
      "[1, 20501] loss: 0.872\n",
      "[1, 21001] loss: 0.779\n",
      "[1, 21501] loss: 0.937\n",
      "[1, 22001] loss: 0.913\n",
      "[1, 22501] loss: 0.854\n",
      "[1, 23001] loss: 0.862\n",
      "[1, 23501] loss: 0.859\n",
      "[1, 24001] loss: 0.833\n",
      "Finished Training\n"
     ]
    }
   ],
   "source": [
    "trainer(net,trainloader,16000)\n",
    "trainer(net,trainloader,20000)"
   ]
  },
  {
   "cell_type": "code",
   "execution_count": 61,
   "id": "5ad87147-a2cb-42d9-ae3f-4fc1f745c42c",
   "metadata": {
    "tags": []
   },
   "outputs": [
    {
     "name": "stdout",
     "output_type": "stream",
     "text": [
      "[1, 24001] loss: 0.000\n",
      "[1, 24501] loss: 0.937\n",
      "[1, 25001] loss: 0.772\n",
      "[1, 25501] loss: 0.886\n",
      "[1, 26001] loss: 0.928\n",
      "[1, 26501] loss: 0.918\n",
      "[1, 27001] loss: 0.854\n",
      "[1, 27501] loss: 0.809\n",
      "[1, 28001] loss: 0.869\n",
      "Finished Training\n",
      "[1, 28001] loss: 0.003\n",
      "[1, 28501] loss: 0.810\n",
      "[1, 29001] loss: 0.784\n",
      "[1, 29501] loss: 0.875\n",
      "[1, 30001] loss: 0.849\n",
      "[1, 30501] loss: 0.810\n",
      "[1, 31001] loss: 0.756\n",
      "[1, 31501] loss: 0.968\n",
      "[1, 32001] loss: 0.764\n",
      "Finished Training\n"
     ]
    }
   ],
   "source": [
    "trainer(net,trainloader,24000)\n",
    "trainer(net,trainloader,28000)"
   ]
  },
  {
   "cell_type": "code",
   "execution_count": 62,
   "id": "e8f50e4f-c179-4cfd-bbc9-8d9b100b0595",
   "metadata": {
    "tags": []
   },
   "outputs": [],
   "source": [
    "model_scripted = torch.jit.script(net) # Export to TorchScript\n",
    "model_scripted.save('model_scripted.pt') # Save"
   ]
  },
  {
   "cell_type": "code",
   "execution_count": 63,
   "id": "0cdc3136-e0e5-4a91-a185-cb49314ae0a6",
   "metadata": {
    "tags": []
   },
   "outputs": [
    {
     "name": "stdout",
     "output_type": "stream",
     "text": [
      "[1, 32001] loss: 0.001\n",
      "[1, 32501] loss: 0.813\n",
      "[1, 33001] loss: 0.789\n",
      "[1, 33501] loss: 0.826\n",
      "[1, 34001] loss: 0.857\n",
      "[1, 34501] loss: 0.787\n",
      "[1, 35001] loss: 0.911\n",
      "[1, 35501] loss: 0.766\n",
      "[1, 36001] loss: 0.796\n",
      "Finished Training\n",
      "[1, 36001] loss: 0.005\n",
      "[1, 36501] loss: 0.835\n",
      "[1, 37001] loss: 0.823\n",
      "[1, 37501] loss: 0.839\n",
      "[1, 38001] loss: 0.884\n",
      "[1, 38501] loss: 0.786\n",
      "[1, 39001] loss: 0.711\n",
      "[1, 39501] loss: 0.728\n",
      "[1, 40001] loss: 0.850\n",
      "Finished Training\n"
     ]
    }
   ],
   "source": [
    "trainer(net,trainloader,32000)\n",
    "trainer(net,trainloader,36000)"
   ]
  },
  {
   "cell_type": "code",
   "execution_count": 64,
   "id": "a0abb572-c9ef-46dd-83aa-8e18bac18d5a",
   "metadata": {
    "tags": []
   },
   "outputs": [
    {
     "name": "stdout",
     "output_type": "stream",
     "text": [
      "[1, 40001] loss: 0.001\n",
      "[1, 40501] loss: 0.758\n",
      "[1, 41001] loss: 0.816\n",
      "[1, 41501] loss: 0.772\n",
      "[1, 42001] loss: 0.768\n",
      "[1, 42501] loss: 0.790\n",
      "[1, 43001] loss: 0.775\n",
      "[1, 43501] loss: 0.816\n",
      "[1, 44001] loss: 0.795\n",
      "Finished Training\n",
      "[1, 44001] loss: 0.002\n",
      "[1, 44501] loss: 0.681\n",
      "[1, 45001] loss: 0.793\n",
      "[1, 45501] loss: 0.747\n",
      "[1, 46001] loss: 0.747\n",
      "[1, 46501] loss: 0.785\n",
      "[1, 47001] loss: 0.820\n",
      "[1, 47501] loss: 0.755\n",
      "[1, 48001] loss: 0.801\n",
      "Finished Training\n"
     ]
    }
   ],
   "source": [
    "trainer(net,trainloader,40000)\n",
    "trainer(net,trainloader,44000)"
   ]
  },
  {
   "cell_type": "code",
   "execution_count": 65,
   "id": "c8dd7310-a849-443d-9eb2-1ae1904c6808",
   "metadata": {
    "tags": []
   },
   "outputs": [
    {
     "name": "stdout",
     "output_type": "stream",
     "text": [
      "[1, 48001] loss: 0.000\n",
      "[1, 48501] loss: 0.733\n",
      "[1, 49001] loss: 0.701\n",
      "[1, 49501] loss: 0.730\n",
      "Finished Training\n"
     ]
    }
   ],
   "source": [
    "trainer(net,trainloader,48000)"
   ]
  },
  {
   "cell_type": "code",
   "execution_count": 66,
   "id": "9f88401f-d4ac-43ec-b893-16d7af475480",
   "metadata": {
    "tags": []
   },
   "outputs": [],
   "source": [
    "model_scripted = torch.jit.script(net) # Export to TorchScript\n",
    "model_scripted.save('model_scripted.pt') # Save"
   ]
  },
  {
   "cell_type": "code",
   "execution_count": null,
   "id": "d027f0b2-74ca-4c81-b61a-6205a96deb5e",
   "metadata": {
    "tags": []
   },
   "outputs": [],
   "source": [
    "model_scripted = torch.jit.script(net) # Export to TorchScript\n",
    "model_scripted.save('model_scripted.pt') # Save"
   ]
  },
  {
   "cell_type": "code",
   "execution_count": null,
   "id": "f83c8fa6-096d-440c-a487-69b0ab31ffc2",
   "metadata": {
    "tags": []
   },
   "outputs": [],
   "source": [
    "trainer(net,trainloader,16000)\n",
    "trainer(net,trainloader,20000)\n",
    "trainer(net,trainloader,24000)\n",
    "trainer(net,trainloader,28000)"
   ]
  },
  {
   "cell_type": "code",
   "execution_count": null,
   "id": "af89f584-2468-413f-a943-de40be3cda80",
   "metadata": {
    "tags": []
   },
   "outputs": [],
   "source": [
    "model_scripted = torch.jit.script(net) # Export to TorchScript\n",
    "model_scripted.save('model_scripted.pt') # Save"
   ]
  },
  {
   "cell_type": "code",
   "execution_count": null,
   "id": "7732108c-d32d-4c07-850f-5260d833a2ec",
   "metadata": {
    "tags": []
   },
   "outputs": [],
   "source": [
    "trainer(net,trainloader,32000)\n",
    "trainer(net,trainloader,36000)\n",
    "trainer(net,trainloader,40000)\n",
    "trainer(net,trainloader,44000)"
   ]
  },
  {
   "cell_type": "code",
   "execution_count": null,
   "id": "5fc5d710-d1d6-45c5-b24f-1e6f486436f6",
   "metadata": {
    "tags": []
   },
   "outputs": [],
   "source": [
    "model_scripted = torch.jit.script(net) # Export to TorchScript\n",
    "model_scripted.save('model_scripted.pt') # Save"
   ]
  },
  {
   "cell_type": "code",
   "execution_count": null,
   "id": "ac4af636-a082-4b8e-ab8f-f95a3a657ed4",
   "metadata": {
    "tags": []
   },
   "outputs": [],
   "source": [
    "trainer(net,trainloader,48000)"
   ]
  },
  {
   "cell_type": "code",
   "execution_count": null,
   "id": "2fe11818-12eb-4224-882a-e2eafb28c323",
   "metadata": {
    "tags": []
   },
   "outputs": [],
   "source": [
    "trainer(net,trainloader,0)\n",
    "trainer(net,trainloader,4000)\n",
    "trainer(net,trainloader,8000)\n",
    "trainer(net,trainloader,12000)"
   ]
  },
  {
   "cell_type": "code",
   "execution_count": null,
   "id": "75873da4-c93a-4aa6-99ff-252f202c7cde",
   "metadata": {
    "tags": []
   },
   "outputs": [],
   "source": [
    "model_scripted = torch.jit.script(net) # Export to TorchScript\n",
    "model_scripted.save('model_scripted.pt') # Save"
   ]
  },
  {
   "cell_type": "code",
   "execution_count": 71,
   "id": "2206be98-39e4-40ec-9cc2-412330a7aee2",
   "metadata": {},
   "outputs": [
    {
     "name": "stdout",
     "output_type": "stream",
     "text": [
      "Accuracy of the network on the 10000 train images: 73 %\n"
     ]
    }
   ],
   "source": [
    "correct = 0\n",
    "total = 0\n",
    "\n",
    "with torch.no_grad():\n",
    "    for i, data in enumerate(trainloader, 0):\n",
    "        if i<=10000:\n",
    "\n",
    "          images, labels = data\n",
    "\n",
    "          outputs = net(images)\n",
    "\n",
    "          _, predicted = torch.max(outputs.data, 1)\n",
    "          total += labels.size(0)\n",
    "          correct += (predicted == labels).sum().item()\n",
    "        else:\n",
    "          break\n",
    "\n",
    "print(f'Accuracy of the network on the 10000 train images: {100 * correct // total} %')"
   ]
  },
  {
   "cell_type": "code",
   "execution_count": 72,
   "id": "e9f5506b-5ae5-438e-9fc0-c34c720b2ead",
   "metadata": {},
   "outputs": [
    {
     "name": "stdout",
     "output_type": "stream",
     "text": [
      "Accuracy of the network on the 1000 test images: 71 %\n"
     ]
    }
   ],
   "source": [
    "correct = 0\n",
    "total = 0\n",
    "\n",
    "with torch.no_grad():\n",
    "    for i, data in enumerate(testloader, 0):\n",
    "        if i<=10000:\n",
    "\n",
    "          images, labels = data\n",
    "\n",
    "          outputs = net(images)\n",
    "\n",
    "          _, predicted = torch.max(outputs.data, 1)\n",
    "          total += labels.size(0)\n",
    "          correct += (predicted == labels).sum().item()\n",
    "        else:\n",
    "          break\n",
    "\n",
    "print(f'Accuracy of the network on the 1000 test images: {100 * correct // total} %')"
   ]
  },
  {
   "cell_type": "code",
   "execution_count": 6,
   "id": "777513b8-a4d4-4fd4-8293-ab5de13eef00",
   "metadata": {},
   "outputs": [],
   "source": [
    "net = torch.jit.load('model_scripted.pt')"
   ]
  },
  {
   "cell_type": "code",
   "execution_count": 9,
   "id": "dd746bb6-d6f2-456b-8ce4-f699c93c977e",
   "metadata": {
    "tags": []
   },
   "outputs": [
    {
     "name": "stdout",
     "output_type": "stream",
     "text": [
      "[1,     1] loss: 0.000\n",
      "[1,   501] loss: 0.694\n",
      "[1,  1001] loss: 0.725\n",
      "[1,  1501] loss: 0.682\n",
      "[1,  2001] loss: 0.694\n",
      "[1,  2501] loss: 0.780\n",
      "[1,  3001] loss: 0.784\n",
      "[1,  3501] loss: 0.699\n",
      "[1,  4001] loss: 0.752\n",
      "Finished Training\n",
      "[1,  4001] loss: 0.001\n",
      "[1,  4501] loss: 0.666\n",
      "[1,  5001] loss: 0.751\n",
      "[1,  5501] loss: 0.711\n",
      "[1,  6001] loss: 0.721\n",
      "[1,  6501] loss: 0.703\n",
      "[1,  7001] loss: 0.749\n",
      "[1,  7501] loss: 0.669\n",
      "[1,  8001] loss: 0.697\n",
      "Finished Training\n",
      "[1,  8001] loss: 0.000\n",
      "[1,  8501] loss: 0.675\n",
      "[1,  9001] loss: 0.749\n",
      "[1,  9501] loss: 0.717\n",
      "[1, 10001] loss: 0.707\n",
      "[1, 10501] loss: 0.816\n",
      "[1, 11001] loss: 0.665\n",
      "[1, 11501] loss: 0.732\n",
      "[1, 12001] loss: 0.674\n",
      "Finished Training\n",
      "[1, 12001] loss: 0.000\n",
      "[1, 12501] loss: 0.739\n",
      "[1, 13001] loss: 0.656\n",
      "[1, 13501] loss: 0.790\n",
      "[1, 14001] loss: 0.681\n",
      "[1, 14501] loss: 0.715\n",
      "[1, 15001] loss: 0.629\n",
      "[1, 15501] loss: 0.782\n",
      "[1, 16001] loss: 0.717\n",
      "Finished Training\n"
     ]
    }
   ],
   "source": [
    "trainer(net,trainloader,0)\n",
    "trainer(net,trainloader,4000)\n",
    "trainer(net,trainloader,8000)\n",
    "trainer(net,trainloader,12000)"
   ]
  },
  {
   "cell_type": "code",
   "execution_count": 10,
   "id": "d30eac5a-828f-4607-911d-704974334450",
   "metadata": {
    "tags": []
   },
   "outputs": [
    {
     "name": "stdout",
     "output_type": "stream",
     "text": [
      "[1, 16001] loss: 0.003\n",
      "[1, 16501] loss: 0.716\n",
      "[1, 17001] loss: 0.718\n",
      "[1, 17501] loss: 0.740\n",
      "[1, 18001] loss: 0.695\n",
      "[1, 18501] loss: 0.652\n",
      "[1, 19001] loss: 0.728\n",
      "[1, 19501] loss: 0.727\n",
      "[1, 20001] loss: 0.756\n",
      "Finished Training\n",
      "[1, 20001] loss: 0.000\n",
      "[1, 20501] loss: 0.727\n",
      "[1, 21001] loss: 0.717\n",
      "[1, 21501] loss: 0.747\n",
      "[1, 22001] loss: 0.718\n",
      "[1, 22501] loss: 0.750\n",
      "[1, 23001] loss: 0.650\n",
      "[1, 23501] loss: 0.789\n",
      "[1, 24001] loss: 0.726\n",
      "Finished Training\n",
      "[1, 24001] loss: 0.000\n",
      "[1, 24501] loss: 0.658\n",
      "[1, 25001] loss: 0.761\n",
      "[1, 25501] loss: 0.720\n",
      "[1, 26001] loss: 0.626\n",
      "[1, 26501] loss: 0.708\n",
      "[1, 27001] loss: 0.680\n",
      "[1, 27501] loss: 0.751\n",
      "[1, 28001] loss: 0.708\n",
      "Finished Training\n",
      "[1, 28001] loss: 0.000\n",
      "[1, 28501] loss: 0.671\n",
      "[1, 29001] loss: 0.750\n",
      "[1, 29501] loss: 0.646\n",
      "[1, 30001] loss: 0.712\n",
      "[1, 30501] loss: 0.750\n",
      "[1, 31001] loss: 0.731\n",
      "[1, 31501] loss: 0.745\n",
      "[1, 32001] loss: 0.701\n",
      "Finished Training\n"
     ]
    }
   ],
   "source": [
    "trainer(net,trainloader,16000)\n",
    "trainer(net,trainloader,20000)\n",
    "trainer(net,trainloader,24000)\n",
    "trainer(net,trainloader,28000)"
   ]
  },
  {
   "cell_type": "code",
   "execution_count": 11,
   "id": "77e94dab-758e-4f59-be0c-d3bb7bb91a86",
   "metadata": {
    "tags": []
   },
   "outputs": [],
   "source": [
    "model_scripted = torch.jit.script(net) # Export to TorchScript\n",
    "model_scripted.save('model_scripted.pt') # Save"
   ]
  },
  {
   "cell_type": "code",
   "execution_count": 12,
   "id": "72d9f07d-577b-47de-bac0-9d0b668bce35",
   "metadata": {
    "tags": []
   },
   "outputs": [
    {
     "name": "stdout",
     "output_type": "stream",
     "text": [
      "[1, 32001] loss: 0.000\n",
      "[1, 32501] loss: 0.721\n",
      "[1, 33001] loss: 0.713\n",
      "[1, 33501] loss: 0.748\n",
      "[1, 34001] loss: 0.766\n",
      "[1, 34501] loss: 0.751\n",
      "[1, 35001] loss: 0.756\n",
      "[1, 35501] loss: 0.738\n",
      "[1, 36001] loss: 0.745\n",
      "Finished Training\n",
      "[1, 36001] loss: 0.000\n",
      "[1, 36501] loss: 0.772\n",
      "[1, 37001] loss: 0.699\n",
      "[1, 37501] loss: 0.659\n",
      "[1, 38001] loss: 0.628\n",
      "[1, 38501] loss: 0.764\n",
      "[1, 39001] loss: 0.714\n",
      "[1, 39501] loss: 0.633\n",
      "[1, 40001] loss: 0.759\n",
      "Finished Training\n",
      "[1, 40001] loss: 0.001\n",
      "[1, 40501] loss: 0.733\n",
      "[1, 41001] loss: 0.831\n",
      "[1, 41501] loss: 0.719\n",
      "[1, 42001] loss: 0.686\n",
      "[1, 42501] loss: 0.635\n",
      "[1, 43001] loss: 0.737\n",
      "[1, 43501] loss: 0.753\n",
      "[1, 44001] loss: 0.698\n",
      "Finished Training\n",
      "[1, 44001] loss: 0.000\n",
      "[1, 44501] loss: 0.780\n",
      "[1, 45001] loss: 0.782\n",
      "[1, 45501] loss: 0.753\n",
      "[1, 46001] loss: 0.736\n",
      "[1, 46501] loss: 0.772\n",
      "[1, 47001] loss: 0.701\n",
      "[1, 47501] loss: 0.769\n",
      "[1, 48001] loss: 0.720\n",
      "Finished Training\n"
     ]
    }
   ],
   "source": [
    "trainer(net,trainloader,32000)\n",
    "trainer(net,trainloader,36000)\n",
    "trainer(net,trainloader,40000)\n",
    "trainer(net,trainloader,44000)"
   ]
  },
  {
   "cell_type": "code",
   "execution_count": 13,
   "id": "d265649e-69de-4032-9abf-c0d5cce94fcb",
   "metadata": {
    "tags": []
   },
   "outputs": [],
   "source": [
    "model_scripted = torch.jit.script(net) # Export to TorchScript\n",
    "model_scripted.save('model_scripted.pt') # Save"
   ]
  },
  {
   "cell_type": "code",
   "execution_count": 14,
   "id": "788a752e-e646-44ba-b0fd-54b21e1fe42a",
   "metadata": {
    "tags": []
   },
   "outputs": [],
   "source": [
    "#test2"
   ]
  },
  {
   "cell_type": "code",
   "execution_count": 15,
   "id": "fa00c66a-8869-467a-864c-2605d6092df0",
   "metadata": {
    "tags": []
   },
   "outputs": [
    {
     "name": "stdout",
     "output_type": "stream",
     "text": [
      "Accuracy of the network on the 10000 train images: 74 %\n"
     ]
    }
   ],
   "source": [
    "correct = 0\n",
    "total = 0\n",
    "\n",
    "with torch.no_grad():\n",
    "    for i, data in enumerate(trainloader, 0):\n",
    "        if i<=10000:\n",
    "\n",
    "          images, labels = data\n",
    "\n",
    "          outputs = net(images)\n",
    "\n",
    "          _, predicted = torch.max(outputs.data, 1)\n",
    "          total += labels.size(0)\n",
    "          correct += (predicted == labels).sum().item()\n",
    "        else:\n",
    "          break\n",
    "\n",
    "print(f'Accuracy of the network on the 10000 train images: {100 * correct // total} %')"
   ]
  },
  {
   "cell_type": "code",
   "execution_count": 16,
   "id": "0f3cc413-5158-4c64-b2ff-6a4687dc5e37",
   "metadata": {
    "tags": []
   },
   "outputs": [
    {
     "name": "stdout",
     "output_type": "stream",
     "text": [
      "Accuracy of the network on the 10000 test images: 73 %\n"
     ]
    }
   ],
   "source": [
    "correct = 0\n",
    "total = 0\n",
    "\n",
    "with torch.no_grad():\n",
    "    for i, data in enumerate(testloader, 0):\n",
    "        if i<=10000:\n",
    "\n",
    "          images, labels = data\n",
    "\n",
    "          outputs = net(images)\n",
    "\n",
    "          _, predicted = torch.max(outputs.data, 1)\n",
    "          total += labels.size(0)\n",
    "          correct += (predicted == labels).sum().item()\n",
    "        else:\n",
    "          break\n",
    "\n",
    "print(f'Accuracy of the network on the 10000 test images: {100 * correct // total} %')"
   ]
  },
  {
   "cell_type": "code",
   "execution_count": 60,
   "id": "5382a295-7841-4770-8e71-cb85db0a3e00",
   "metadata": {
    "tags": []
   },
   "outputs": [],
   "source": [
    "net2 = resnet18(weights=ResNet18_Weights.DEFAULT)\n",
    "\n",
    "\n",
    "net2.fc = Linear(in_features=512, out_features=10)"
   ]
  },
  {
   "cell_type": "code",
   "execution_count": 56,
   "id": "4ac4fcb0-078d-4789-8adf-44be25836583",
   "metadata": {
    "tags": []
   },
   "outputs": [
    {
     "name": "stdout",
     "output_type": "stream",
     "text": [
      "Files already downloaded and verified\n",
      "Files already downloaded and verified\n",
      "Dataset CIFAR10\n",
      "    Number of datapoints: 50000\n",
      "    Root location: ./data\n",
      "    Split: Train\n",
      "    StandardTransform\n",
      "Transform: Compose(\n",
      "               Resize(size=(224, 224), interpolation=bilinear, max_size=None, antialias=None)\n",
      "               RandomHorizontalFlip(p=0.5)\n",
      "               RandomRotation(degrees=[-10.0, 10.0], interpolation=nearest, expand=False, fill=0)\n",
      "               ToTensor()\n",
      "               Normalize(mean=[0.485, 0.456, 0.406], std=[0.229, 0.224, 0.225])\n",
      "           )\n"
     ]
    }
   ],
   "source": [
    "# Data Transformer\n",
    "tfm = tfm = transforms.Compose([\n",
    "    transforms.Resize((224, 224)),\n",
    "    transforms.RandomHorizontalFlip(),\n",
    "    transforms.RandomRotation(degrees=10),\n",
    "    transforms.ToTensor(),\n",
    "    transforms.Normalize([0.485, 0.456, 0.406], [0.229, 0.224, 0.225])\n",
    "])\n",
    "\n",
    "batch_size = 1\n",
    "\n",
    "trainset = torchvision.datasets.CIFAR10(root='./data', train=True,\n",
    "                                        download=True, transform=tfm)\n",
    "trainloader = torch.utils.data.DataLoader(trainset, batch_size=batch_size,\n",
    "                                          shuffle=True, num_workers=2)\n",
    "\n",
    "testset = torchvision.datasets.CIFAR10(root='./data', train=False,\n",
    "                                       download=True, transform=tfm)\n",
    "testloader = torch.utils.data.DataLoader(testset, batch_size=batch_size,\n",
    "                                         shuffle=False, num_workers=2)\n",
    "print(trainloader.dataset)"
   ]
  },
  {
   "cell_type": "code",
   "execution_count": 59,
   "id": "06868cf2-c022-4851-80f6-9b526b321c3c",
   "metadata": {
    "tags": []
   },
   "outputs": [
    {
     "name": "stdout",
     "output_type": "stream",
     "text": [
      "FOR PRETRAINED RESNET18 model, Accuracy of the network on the 10000 train images: 10 %\n"
     ]
    }
   ],
   "source": [
    "correct = 0\n",
    "total = 0\n",
    "\n",
    "with torch.no_grad():\n",
    "    for i,data in enumerate(testloader,0):\n",
    "        \n",
    "\n",
    "          images, labels = data\n",
    "\n",
    "          outputs = net2(images)\n",
    "\n",
    "          _, predicted = torch.max(outputs.data, 1)\n",
    "          total += labels.size(0)\n",
    "          correct += (predicted == labels).sum().item()\n",
    "\n",
    "print(f'FOR PRETRAINED RESNET18 model, Accuracy of the network on the 10000 train images: {100 * correct // total} %')"
   ]
  },
  {
   "cell_type": "code",
   "execution_count": null,
   "id": "2f492e98-4508-45a3-b357-2d8a0f7fc90b",
   "metadata": {},
   "outputs": [],
   "source": []
  }
 ],
 "metadata": {
  "kernelspec": {
   "display_name": "Python 3 (ipykernel)",
   "language": "python",
   "name": "python3"
  },
  "language_info": {
   "codemirror_mode": {
    "name": "ipython",
    "version": 3
   },
   "file_extension": ".py",
   "mimetype": "text/x-python",
   "name": "python",
   "nbconvert_exporter": "python",
   "pygments_lexer": "ipython3",
   "version": "3.10.0"
  }
 },
 "nbformat": 4,
 "nbformat_minor": 5
}
