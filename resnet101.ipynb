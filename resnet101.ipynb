{
  "nbformat": 4,
  "nbformat_minor": 0,
  "metadata": {
    "colab": {
      "provenance": []
    },
    "kernelspec": {
      "name": "python3",
      "display_name": "Python 3"
    },
    "language_info": {
      "name": "python"
    },
    "accelerator": "GPU",
    "gpuClass": "standard"
  },
  "cells": [
    {
      "cell_type": "code",
      "execution_count": 1,
      "metadata": {
        "id": "oMiong54AYzf"
      },
      "outputs": [],
      "source": [
        "import tensorflow.keras as keras\n",
        "import tensorflow.compat.v1 as tensorflow\n",
        "from tensorflow import keras\n",
        "from tensorflow.keras import layers\n",
        "from tensorflow.python.keras.layers import Dense, Flatten\n",
        "from tensorflow.keras.models import Sequential\n",
        "from tensorflow.keras.optimizers import Adam\n",
        "import matplotlib.pyplot as plotAxis"
      ]
    },
    {
      "cell_type": "code",
      "source": [
        "def processData(X, Y,X1,Y1):\n",
        "    x_train = X / 255\n",
        "    x_test = X1 / 255\n",
        "    y_train = keras.utils.to_categorical(Y)\n",
        "    y_test = keras.utils.to_categorical(Y1)\n",
        "    return x_train, x_test,y_train,y_test"
      ],
      "metadata": {
        "id": "_fF7Gn4cAkWk"
      },
      "execution_count": 2,
      "outputs": []
    },
    {
      "cell_type": "code",
      "source": [
        "(x_train,y_train),(x_test,y_test) = keras.datasets.cifar10.load_data()\n",
        "x_train, x_test,y_train,y_test = processData(x_train,y_train,x_test,y_test)"
      ],
      "metadata": {
        "colab": {
          "base_uri": "https://localhost:8080/"
        },
        "id": "bKwS8Y08Aqo3",
        "outputId": "39191769-89e3-4fe6-aa0b-2a735e371049"
      },
      "execution_count": 3,
      "outputs": [
        {
          "output_type": "stream",
          "name": "stdout",
          "text": [
            "Downloading data from https://www.cs.toronto.edu/~kriz/cifar-10-python.tar.gz\n",
            "170498071/170498071 [==============================] - 5s 0us/step\n"
          ]
        }
      ]
    },
    {
      "cell_type": "code",
      "source": [
        "def getImages(image, label):\n",
        "  img = tensorflow.image.resize(image, (227, 227))\n",
        "  return img, label"
      ],
      "metadata": {
        "id": "U-IkqNszBMiU"
      },
      "execution_count": 4,
      "outputs": []
    },
    {
      "cell_type": "code",
      "source": [
        "  trainingData = tensorflow.data.Dataset.from_tensor_slices((x_train, y_train))\n",
        "  trainingData = (trainingData.map(getImages).batch(batch_size=32, drop_remainder=True))  \n",
        "  testingData = tensorflow.data.Dataset.from_tensor_slices((x_test, y_test))\n",
        "  testingData = (testingData.map(getImages).batch(batch_size=32, drop_remainder=True))"
      ],
      "metadata": {
        "id": "QCIMHo41AzgJ"
      },
      "execution_count": 5,
      "outputs": []
    },
    {
      "cell_type": "code",
      "source": [
        "pretrainedModel = keras.applications.ResNet101(include_top=False,weights='imagenet',input_tensor=keras.Input(shape=(227, 227, 3)))"
      ],
      "metadata": {
        "colab": {
          "base_uri": "https://localhost:8080/"
        },
        "id": "iMD5HFM0BQo5",
        "outputId": "2d8a93cf-5681-49b9-e301-d2aca3b5e6c7"
      },
      "execution_count": 6,
      "outputs": [
        {
          "output_type": "stream",
          "name": "stdout",
          "text": [
            "Downloading data from https://storage.googleapis.com/tensorflow/keras-applications/resnet/resnet101_weights_tf_dim_ordering_tf_kernels_notop.h5\n",
            "171446536/171446536 [==============================] - 1s 0us/step\n"
          ]
        }
      ]
    },
    {
      "cell_type": "code",
      "source": [
        "model = Sequential()\n",
        "model.add(pretrainedModel)\n",
        "model.add(Flatten())\n",
        "model.add(layers.Dense(2048, activation=('relu')))\n",
        "model.add(layers.Dropout(.4)) \n",
        "model.add(layers.Dense(1024, activation=('relu')))\n",
        "model.add(layers.Dropout(.3))  \n",
        "model.add(layers.Dense(512, activation=('relu'), name=\"Deep_feature\"))\n",
        "model.add(layers.Dropout(.2))  \n",
        "model.add(layers.Dense(10, activation=('softmax')))\n",
        "model.summary()"
      ],
      "metadata": {
        "colab": {
          "base_uri": "https://localhost:8080/"
        },
        "id": "H0LwyyPKBjk7",
        "outputId": "62b54de1-5ef2-4115-ab96-9dd6d35fe327"
      },
      "execution_count": 7,
      "outputs": [
        {
          "output_type": "stream",
          "name": "stdout",
          "text": [
            "Model: \"sequential\"\n",
            "_________________________________________________________________\n",
            " Layer (type)                Output Shape              Param #   \n",
            "=================================================================\n",
            " resnet101 (Functional)      (None, 8, 8, 2048)        42658176  \n",
            "                                                                 \n",
            " module_wrapper (ModuleWrapp  (None, 131072)           0         \n",
            " er)                                                             \n",
            "                                                                 \n",
            " dense (Dense)               (None, 2048)              268437504 \n",
            "                                                                 \n",
            " dropout (Dropout)           (None, 2048)              0         \n",
            "                                                                 \n",
            " dense_1 (Dense)             (None, 1024)              2098176   \n",
            "                                                                 \n",
            " dropout_1 (Dropout)         (None, 1024)              0         \n",
            "                                                                 \n",
            " Deep_feature (Dense)        (None, 512)               524800    \n",
            "                                                                 \n",
            " dropout_2 (Dropout)         (None, 512)               0         \n",
            "                                                                 \n",
            " dense_2 (Dense)             (None, 10)                5130      \n",
            "                                                                 \n",
            "=================================================================\n",
            "Total params: 313,723,786\n",
            "Trainable params: 313,618,442\n",
            "Non-trainable params: 105,344\n",
            "_________________________________________________________________\n"
          ]
        }
      ]
    },
    {
      "cell_type": "code",
      "source": [
        "\n",
        "learning_rate=0.00003\n",
        "model.compile(optimizer=Adam(learning_rate),loss='categorical_crossentropy',metrics=['accuracy'])"
      ],
      "metadata": {
        "id": "R7shvzMFB46Q"
      },
      "execution_count": 8,
      "outputs": []
    },
    {
      "cell_type": "code",
      "source": [
        "loss, accuracy = model.evaluate(testingData)"
      ],
      "metadata": {
        "colab": {
          "base_uri": "https://localhost:8080/"
        },
        "id": "UhGPoWUgCV_N",
        "outputId": "35b19896-1ad5-4438-8b23-f34cb9250a19"
      },
      "execution_count": 9,
      "outputs": [
        {
          "output_type": "stream",
          "name": "stdout",
          "text": [
            "312/312 [==============================] - 71s 191ms/step - loss: 2.4957 - accuracy: 0.0942\n"
          ]
        }
      ]
    },
    {
      "cell_type": "code",
      "source": [
        "finalResult = model.fit(trainingData, epochs=6,verbose=1, validation_data=(testingData))"
      ],
      "metadata": {
        "colab": {
          "base_uri": "https://localhost:8080/"
        },
        "id": "ijD5EVXzDDF1",
        "outputId": "739df0d2-be9c-4455-e244-739c09e4d0cc"
      },
      "execution_count": 12,
      "outputs": [
        {
          "output_type": "stream",
          "name": "stdout",
          "text": [
            "Epoch 1/6\n",
            "1562/1562 [==============================] - 1189s 715ms/step - loss: 0.5696 - accuracy: 0.8279 - val_loss: 0.2230 - val_accuracy: 0.9301\n",
            "Epoch 2/6\n",
            "1562/1562 [==============================] - 1138s 729ms/step - loss: 0.1456 - accuracy: 0.9536 - val_loss: 0.2371 - val_accuracy: 0.9349\n",
            "Epoch 3/6\n",
            "1562/1562 [==============================] - 1139s 729ms/step - loss: 0.0832 - accuracy: 0.9740 - val_loss: 0.3116 - val_accuracy: 0.9257\n",
            "Epoch 4/6\n",
            "1562/1562 [==============================] - 1115s 714ms/step - loss: 0.0669 - accuracy: 0.9796 - val_loss: 0.2605 - val_accuracy: 0.9410\n",
            "Epoch 5/6\n",
            "1562/1562 [==============================] - 1112s 712ms/step - loss: 0.0545 - accuracy: 0.9832 - val_loss: 0.1977 - val_accuracy: 0.9479\n",
            "Epoch 6/6\n",
            "1562/1562 [==============================] - 1113s 713ms/step - loss: 0.0443 - accuracy: 0.9873 - val_loss: 0.2454 - val_accuracy: 0.9388\n"
          ]
        }
      ]
    },
    {
      "cell_type": "code",
      "source": [
        "loss, accuracy = model.evaluate(testingData)"
      ],
      "metadata": {
        "colab": {
          "base_uri": "https://localhost:8080/"
        },
        "id": "A8wEPdSfIvYQ",
        "outputId": "dffafeeb-2e4e-4981-c8d1-5a60e13db6ff"
      },
      "execution_count": 13,
      "outputs": [
        {
          "output_type": "stream",
          "name": "stdout",
          "text": [
            "312/312 [==============================] - 60s 191ms/step - loss: 0.2454 - accuracy: 0.9388\n"
          ]
        }
      ]
    },
    {
      "cell_type": "code",
      "source": [
        "print('loss:',loss)\n",
        "print('Accuracy:',100*accuracy,'%')"
      ],
      "metadata": {
        "id": "3fqqcwGzJB0j",
        "colab": {
          "base_uri": "https://localhost:8080/"
        },
        "outputId": "02b86bc2-58ba-4bd6-801a-4242e0689ff5"
      },
      "execution_count": 14,
      "outputs": [
        {
          "output_type": "stream",
          "name": "stdout",
          "text": [
            "loss: 0.24543265998363495\n",
            "Accuracy: 93.88020634651184 %\n"
          ]
        }
      ]
    },
    {
      "cell_type": "code",
      "source": [
        "figure = plotAxis.gcf()\n",
        "plotAxis.plot(finalResult.history['accuracy'],label='Training Accuracy')\n",
        "plotAxis.plot(finalResult.history['val_accuracy'],label='Validation Accuracy')\n",
        "plotAxis.legend()\n",
        "plotAxis.xlabel('Epochs')\n",
        "plotAxis.ylabel('Accuracy')\n",
        "plotAxis.axis(ymin=0.1,ymax=1)\n",
        "plotAxis.grid()\n",
        "plotAxis.title('Cifar-10 accuracy')\n",
        "plotAxis.show()"
      ],
      "metadata": {
        "id": "4YODaBUGJXt-",
        "colab": {
          "base_uri": "https://localhost:8080/",
          "height": 295
        },
        "outputId": "9a63fcd2-9b29-43f6-aba6-a51631a6f1b4"
      },
      "execution_count": 15,
      "outputs": [
        {
          "output_type": "display_data",
          "data": {
            "text/plain": [
              "<Figure size 432x288 with 1 Axes>"
            ],
            "image/png": "[encoded data removed]"
          },
          "metadata": {
            "needs_background": "light"
          }
        }
      ]
    },
    {
      "cell_type": "code",
      "source": [],
      "metadata": {
        "id": "D6sy_t8UK5pL"
      },
      "execution_count": null,
      "outputs": []
    }
  ]
}